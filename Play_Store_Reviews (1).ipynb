{
  "nbformat": 4,
  "nbformat_minor": 0,
  "metadata": {
    "colab": {
      "provenance": []
    },
    "kernelspec": {
      "name": "python3",
      "display_name": "Python 3"
    },
    "language_info": {
      "name": "python"
    }
  },
  "cells": [
    {
      "cell_type": "markdown",
      "source": [
        "# Installing Libraries:\n",
        "\n",
        "1. ***google-play-scraper***: Scrapes data from Google Play Store\n",
        "2. ***pandas***: For Data Analysis\n",
        "3. ***matplotlib***: For Data Vizualization\n",
        "4. ***gradio***: For deployment and demonstration"
      ],
      "metadata": {
        "id": "Zw6pJkC1DfLt"
      }
    },
    {
      "cell_type": "code",
      "source": [
        "!pip install google-play-scraper pandas matplotlib gradio"
      ],
      "metadata": {
        "colab": {
          "base_uri": "https://localhost:8080/"
        },
        "id": "8wYHIx91Y1sd",
        "outputId": "d59169f4-884a-4821-96ca-80d2ef673d5f"
      },
      "execution_count": 2,
      "outputs": [
        {
          "output_type": "stream",
          "name": "stdout",
          "text": [
            "Requirement already satisfied: google-play-scraper in /usr/local/lib/python3.10/dist-packages (1.2.7)\n",
            "Requirement already satisfied: pandas in /usr/local/lib/python3.10/dist-packages (2.1.4)\n",
            "Requirement already satisfied: matplotlib in /usr/local/lib/python3.10/dist-packages (3.7.1)\n",
            "Requirement already satisfied: gradio in /usr/local/lib/python3.10/dist-packages (4.43.0)\n",
            "Requirement already satisfied: numpy<2,>=1.22.4 in /usr/local/lib/python3.10/dist-packages (from pandas) (1.26.4)\n",
            "Requirement already satisfied: python-dateutil>=2.8.2 in /usr/local/lib/python3.10/dist-packages (from pandas) (2.8.2)\n",
            "Requirement already satisfied: pytz>=2020.1 in /usr/local/lib/python3.10/dist-packages (from pandas) (2024.1)\n",
            "Requirement already satisfied: tzdata>=2022.1 in /usr/local/lib/python3.10/dist-packages (from pandas) (2024.1)\n",
            "Requirement already satisfied: contourpy>=1.0.1 in /usr/local/lib/python3.10/dist-packages (from matplotlib) (1.3.0)\n",
            "Requirement already satisfied: cycler>=0.10 in /usr/local/lib/python3.10/dist-packages (from matplotlib) (0.12.1)\n",
            "Requirement already satisfied: fonttools>=4.22.0 in /usr/local/lib/python3.10/dist-packages (from matplotlib) (4.53.1)\n",
            "Requirement already satisfied: kiwisolver>=1.0.1 in /usr/local/lib/python3.10/dist-packages (from matplotlib) (1.4.5)\n",
            "Requirement already satisfied: packaging>=20.0 in /usr/local/lib/python3.10/dist-packages (from matplotlib) (24.1)\n",
            "Requirement already satisfied: pillow>=6.2.0 in /usr/local/lib/python3.10/dist-packages (from matplotlib) (9.4.0)\n",
            "Requirement already satisfied: pyparsing>=2.3.1 in /usr/local/lib/python3.10/dist-packages (from matplotlib) (3.1.4)\n",
            "Requirement already satisfied: aiofiles<24.0,>=22.0 in /usr/local/lib/python3.10/dist-packages (from gradio) (23.2.1)\n",
            "Requirement already satisfied: anyio<5.0,>=3.0 in /usr/local/lib/python3.10/dist-packages (from gradio) (3.7.1)\n",
            "Requirement already satisfied: fastapi<0.113.0 in /usr/local/lib/python3.10/dist-packages (from gradio) (0.112.4)\n",
            "Requirement already satisfied: ffmpy in /usr/local/lib/python3.10/dist-packages (from gradio) (0.4.0)\n",
            "Requirement already satisfied: gradio-client==1.3.0 in /usr/local/lib/python3.10/dist-packages (from gradio) (1.3.0)\n",
            "Requirement already satisfied: httpx>=0.24.1 in /usr/local/lib/python3.10/dist-packages (from gradio) (0.27.2)\n",
            "Requirement already satisfied: huggingface-hub>=0.19.3 in /usr/local/lib/python3.10/dist-packages (from gradio) (0.24.6)\n",
            "Requirement already satisfied: importlib-resources<7.0,>=1.3 in /usr/local/lib/python3.10/dist-packages (from gradio) (6.4.4)\n",
            "Requirement already satisfied: jinja2<4.0 in /usr/local/lib/python3.10/dist-packages (from gradio) (3.1.4)\n",
            "Requirement already satisfied: markupsafe~=2.0 in /usr/local/lib/python3.10/dist-packages (from gradio) (2.1.5)\n",
            "Requirement already satisfied: orjson~=3.0 in /usr/local/lib/python3.10/dist-packages (from gradio) (3.10.7)\n",
            "Requirement already satisfied: pydantic>=2.0 in /usr/local/lib/python3.10/dist-packages (from gradio) (2.8.2)\n",
            "Requirement already satisfied: pydub in /usr/local/lib/python3.10/dist-packages (from gradio) (0.25.1)\n",
            "Requirement already satisfied: python-multipart>=0.0.9 in /usr/local/lib/python3.10/dist-packages (from gradio) (0.0.9)\n",
            "Requirement already satisfied: pyyaml<7.0,>=5.0 in /usr/local/lib/python3.10/dist-packages (from gradio) (6.0.2)\n",
            "Requirement already satisfied: ruff>=0.2.2 in /usr/local/lib/python3.10/dist-packages (from gradio) (0.6.4)\n",
            "Requirement already satisfied: semantic-version~=2.0 in /usr/local/lib/python3.10/dist-packages (from gradio) (2.10.0)\n",
            "Requirement already satisfied: tomlkit==0.12.0 in /usr/local/lib/python3.10/dist-packages (from gradio) (0.12.0)\n",
            "Requirement already satisfied: typer<1.0,>=0.12 in /usr/local/lib/python3.10/dist-packages (from gradio) (0.12.5)\n",
            "Requirement already satisfied: typing-extensions~=4.0 in /usr/local/lib/python3.10/dist-packages (from gradio) (4.12.2)\n",
            "Requirement already satisfied: urllib3~=2.0 in /usr/local/lib/python3.10/dist-packages (from gradio) (2.0.7)\n",
            "Requirement already satisfied: uvicorn>=0.14.0 in /usr/local/lib/python3.10/dist-packages (from gradio) (0.30.6)\n",
            "Requirement already satisfied: fsspec in /usr/local/lib/python3.10/dist-packages (from gradio-client==1.3.0->gradio) (2024.6.1)\n",
            "Requirement already satisfied: websockets<13.0,>=10.0 in /usr/local/lib/python3.10/dist-packages (from gradio-client==1.3.0->gradio) (12.0)\n",
            "Requirement already satisfied: idna>=2.8 in /usr/local/lib/python3.10/dist-packages (from anyio<5.0,>=3.0->gradio) (3.8)\n",
            "Requirement already satisfied: sniffio>=1.1 in /usr/local/lib/python3.10/dist-packages (from anyio<5.0,>=3.0->gradio) (1.3.1)\n",
            "Requirement already satisfied: exceptiongroup in /usr/local/lib/python3.10/dist-packages (from anyio<5.0,>=3.0->gradio) (1.2.2)\n",
            "Requirement already satisfied: starlette<0.39.0,>=0.37.2 in /usr/local/lib/python3.10/dist-packages (from fastapi<0.113.0->gradio) (0.38.5)\n",
            "Requirement already satisfied: certifi in /usr/local/lib/python3.10/dist-packages (from httpx>=0.24.1->gradio) (2024.8.30)\n",
            "Requirement already satisfied: httpcore==1.* in /usr/local/lib/python3.10/dist-packages (from httpx>=0.24.1->gradio) (1.0.5)\n",
            "Requirement already satisfied: h11<0.15,>=0.13 in /usr/local/lib/python3.10/dist-packages (from httpcore==1.*->httpx>=0.24.1->gradio) (0.14.0)\n",
            "Requirement already satisfied: filelock in /usr/local/lib/python3.10/dist-packages (from huggingface-hub>=0.19.3->gradio) (3.15.4)\n",
            "Requirement already satisfied: requests in /usr/local/lib/python3.10/dist-packages (from huggingface-hub>=0.19.3->gradio) (2.32.3)\n",
            "Requirement already satisfied: tqdm>=4.42.1 in /usr/local/lib/python3.10/dist-packages (from huggingface-hub>=0.19.3->gradio) (4.66.5)\n",
            "Requirement already satisfied: annotated-types>=0.4.0 in /usr/local/lib/python3.10/dist-packages (from pydantic>=2.0->gradio) (0.7.0)\n",
            "Requirement already satisfied: pydantic-core==2.20.1 in /usr/local/lib/python3.10/dist-packages (from pydantic>=2.0->gradio) (2.20.1)\n",
            "Requirement already satisfied: six>=1.5 in /usr/local/lib/python3.10/dist-packages (from python-dateutil>=2.8.2->pandas) (1.16.0)\n",
            "Requirement already satisfied: click>=8.0.0 in /usr/local/lib/python3.10/dist-packages (from typer<1.0,>=0.12->gradio) (8.1.7)\n",
            "Requirement already satisfied: shellingham>=1.3.0 in /usr/local/lib/python3.10/dist-packages (from typer<1.0,>=0.12->gradio) (1.5.4)\n",
            "Requirement already satisfied: rich>=10.11.0 in /usr/local/lib/python3.10/dist-packages (from typer<1.0,>=0.12->gradio) (13.8.0)\n",
            "Requirement already satisfied: markdown-it-py>=2.2.0 in /usr/local/lib/python3.10/dist-packages (from rich>=10.11.0->typer<1.0,>=0.12->gradio) (3.0.0)\n",
            "Requirement already satisfied: pygments<3.0.0,>=2.13.0 in /usr/local/lib/python3.10/dist-packages (from rich>=10.11.0->typer<1.0,>=0.12->gradio) (2.16.1)\n",
            "Requirement already satisfied: charset-normalizer<4,>=2 in /usr/local/lib/python3.10/dist-packages (from requests->huggingface-hub>=0.19.3->gradio) (3.3.2)\n",
            "Requirement already satisfied: mdurl~=0.1 in /usr/local/lib/python3.10/dist-packages (from markdown-it-py>=2.2.0->rich>=10.11.0->typer<1.0,>=0.12->gradio) (0.1.2)\n"
          ]
        }
      ]
    },
    {
      "cell_type": "markdown",
      "source": [
        "# Sorting the Positive, Neutral and Negative Reviews and Putting them on a Graph\n",
        "\n",
        "Note that this just puts the numbers on a graph. Improvements coming soon!\n",
        "\n",
        "## Inputs:\n",
        "*The app id* (and not the app name) - The app ID is the unique identifier of an app on the Play Store.\n",
        "\n",
        "### Steps to get the app ID:\n",
        " 1. Open up the Goodle Play Store on a laptop browser (I'm using Chrome)\n",
        " 2. Go to an app of your choice (say Instagram), and find the link. On chrome, the play store link for Instagram looks like this: https://play.google.com/store/apps/details?id=com.instagram.android&hl=en\n",
        "\n",
        " 3. The app id is the bit that comes after the clause 'id=' in the link. For Instagram, it is 'com.instagram.android'\n",
        "\n",
        " ## Outputs\n",
        "\n",
        " 1. A graph showing the number of positive, neutral and negative reviews"
      ],
      "metadata": {
        "id": "PzPyfGm-IwO2"
      }
    },
    {
      "cell_type": "code",
      "source": [
        "from google_play_scraper import Sort, reviews_all\n",
        "import pandas as pd\n",
        "import matplotlib.pyplot as plt\n",
        "import gradio as gr\n",
        "\n",
        "# Function to fetch reviews and plot the graph\n",
        "def get_review_graph(app_id):\n",
        "    # Fetch reviews\n",
        "    result = reviews_all(\n",
        "        app_id,\n",
        "        sleep_milliseconds=0,  # no delay\n",
        "        lang='en',  # language English\n",
        "        country='in',  # country India\n",
        "        sort=Sort.NEWEST  # Sort by newest reviews\n",
        "    )\n",
        "\n",
        "    # Convert to DataFrame\n",
        "    df = pd.DataFrame(result)\n",
        "\n",
        "    # Classify reviews based on score\n",
        "    df['score_label'] = df['score'].apply(lambda x: 'Positive' if x > 3\n",
        "                                          else ('Neutral' if x == 3\n",
        "                                                else 'Negative'))\n",
        "\n",
        "    # Count the number of reviews in each category\n",
        "    review_counts = df['score_label'].value_counts()\n",
        "\n",
        "    # Plot the bar chart\n",
        "    plt.figure(figsize=(6, 4))\n",
        "    review_counts.plot(kind='bar', color=['green', 'gray', 'red'])\n",
        "    plt.title(f\"Review Sentiment for {app_id}\")\n",
        "    plt.xlabel('Sentiment')\n",
        "    plt.ylabel('Number of Reviews')\n",
        "    plt.xticks(rotation=0)\n",
        "\n",
        "    # Save plot as an image\n",
        "    plt.savefig('review_graph.png')\n",
        "    plt.close()\n",
        "\n",
        "    return 'review_graph.png'\n",
        "\n",
        "# Gradio interface\n",
        "with gr.Blocks() as demo:\n",
        "    app_id_input = gr.Textbox(label=\"Enter App ID\", placeholder=\"e.g., com.zapmoney\")\n",
        "    output_image = gr.Image(label=\"Review Graph\")\n",
        "\n",
        "    submit_btn = gr.Button(\"Submit\")\n",
        "    submit_btn.click(get_review_graph, inputs=app_id_input, outputs=output_image)\n",
        "\n",
        "# Launch the Gradio app\n",
        "demo.launch()\n"
      ],
      "metadata": {
        "colab": {
          "base_uri": "https://localhost:8080/",
          "height": 1000
        },
        "id": "0tORfpP-ZzBC",
        "outputId": "3fb3e044-ab95-4334-f1a1-ac92d613127c"
      },
      "execution_count": 3,
      "outputs": [
        {
          "output_type": "stream",
          "name": "stdout",
          "text": [
            "Setting queue=True in a Colab notebook requires sharing enabled. Setting `share=True` (you can turn this off by setting `share=False` in `launch()` explicitly).\n",
            "\n",
            "Colab notebook detected. To show errors in colab notebook, set debug=True in launch()\n",
            "Running on public URL: https://de3a00d06b2f4c7eed.gradio.live\n",
            "\n",
            "This share link expires in 72 hours. For free permanent hosting and GPU upgrades, run `gradio deploy` from Terminal to deploy to Spaces (https://huggingface.co/spaces)\n"
          ]
        },
        {
          "output_type": "display_data",
          "data": {
            "text/plain": [
              "<IPython.core.display.HTML object>"
            ],
            "text/html": [
              "<div><iframe src=\"https://de3a00d06b2f4c7eed.gradio.live\" width=\"100%\" height=\"500\" allow=\"autoplay; camera; microphone; clipboard-read; clipboard-write;\" frameborder=\"0\" allowfullscreen></iframe></div>"
            ]
          },
          "metadata": {}
        },
        {
          "output_type": "execute_result",
          "data": {
            "text/plain": []
          },
          "metadata": {},
          "execution_count": 1
        },
        {
          "output_type": "stream",
          "name": "stdout",
          "text": [
            "Setting queue=True in a Colab notebook requires sharing enabled. Setting `share=True` (you can turn this off by setting `share=False` in `launch()` explicitly).\n",
            "\n",
            "Colab notebook detected. To show errors in colab notebook, set debug=True in launch()\n",
            "Running on public URL: https://21b19ac33460c16766.gradio.live\n",
            "\n",
            "This share link expires in 72 hours. For free permanent hosting and GPU upgrades, run `gradio deploy` from Terminal to deploy to Spaces (https://huggingface.co/spaces)\n"
          ]
        },
        {
          "output_type": "display_data",
          "data": {
            "text/plain": [
              "<IPython.core.display.HTML object>"
            ],
            "text/html": [
              "<div><iframe src=\"https://21b19ac33460c16766.gradio.live\" width=\"100%\" height=\"500\" allow=\"autoplay; camera; microphone; clipboard-read; clipboard-write;\" frameborder=\"0\" allowfullscreen></iframe></div>"
            ]
          },
          "metadata": {}
        },
        {
          "output_type": "execute_result",
          "data": {
            "text/plain": []
          },
          "metadata": {},
          "execution_count": 3
        }
      ]
    },
    {
      "cell_type": "markdown",
      "source": [
        "#Finding the Frequently raised issues and compliments\n",
        "\n",
        "## Changes made to the Graph:\n",
        " Added Data Labels the Bars\n",
        "\n",
        "## Additional Functionality\n",
        "1. I've added a section that shows the most common words / phrases in both positive and negative reviews\n",
        "2. I've added the option to download the reviews in csv form, with the sentiment labels and key words of each review attached."
      ],
      "metadata": {
        "id": "iVZI-RjUN10u"
      }
    },
    {
      "cell_type": "code",
      "source": [
        "from google_play_scraper import Sort, reviews_all\n",
        "import pandas as pd\n",
        "import matplotlib.pyplot as plt\n",
        "import gradio as gr\n",
        "from collections import Counter\n",
        "import nltk\n",
        "from nltk.corpus import stopwords\n",
        "\n",
        "# Download stopwords list from NLTK\n",
        "nltk.download('stopwords')\n",
        "stop_words = set(stopwords.words('english'))\n",
        "\n",
        "# Add custom words to omit\n",
        "custom_stopwords = {'app', 'download', 'issue', 'problem', 'good', 'bad','loan','application'}\n",
        "stop_words.update(custom_stopwords)  # Combine both stopwords and custom words\n",
        "\n",
        "# Function to fetch reviews, plot the graph, extract feedback, and export CSV\n",
        "def get_review_graph_and_feedback(app_id):\n",
        "    # Fetch reviews\n",
        "    result = reviews_all(\n",
        "        app_id,\n",
        "        sleep_milliseconds=0,  # no delay\n",
        "        lang='en',  # language English\n",
        "        country='in',  # country India\n",
        "        sort=Sort.NEWEST  # Sort by newest reviews\n",
        "    )\n",
        "\n",
        "    # Convert to DataFrame\n",
        "    df = pd.DataFrame(result)\n",
        "\n",
        "    # Classify reviews based on score\n",
        "    df['score_label'] = df['score'].apply(lambda x: 'Positive' if x > 3 else ('Neutral' if x == 3 else 'Negative'))\n",
        "\n",
        "    # Ensure order: Positive, Neutral, Negative\n",
        "    df['score_label'] = pd.Categorical(df['score_label'], categories=['Positive', 'Neutral', 'Negative'], ordered=True)\n",
        "\n",
        "    # Extract keywords from reviews (removing stopwords)\n",
        "    df['keywords'] = df['content'].apply(lambda review: get_keywords(review))\n",
        "\n",
        "    # Format date and time for readability\n",
        "    df['review_datetime'] = pd.to_datetime(df['at']).dt.strftime('%Y-%m-%d %H:%M:%S')\n",
        "\n",
        "    # Count the number of reviews in each category\n",
        "    review_counts = df['score_label'].value_counts()\n",
        "\n",
        "    # Plot the bar chart\n",
        "    plt.figure(figsize=(6, 4))\n",
        "    review_counts.plot(kind='bar', color=['green', 'gray', 'red'])\n",
        "\n",
        "    # Add labels on top of each bar\n",
        "    for i, count in enumerate(review_counts):\n",
        "        plt.text(i, count, str(count), ha='center', va='bottom')\n",
        "\n",
        "    plt.title(f\"Review Sentiment for {app_id}\")\n",
        "    plt.xlabel('Sentiment')\n",
        "    plt.ylabel('Number of Reviews')\n",
        "    plt.xticks(rotation=0)\n",
        "\n",
        "    # Save plot as an image\n",
        "    plt.savefig('review_graph.png')\n",
        "    plt.close()\n",
        "\n",
        "    # Extract feedback (liked best and common issues)\n",
        "    positive_reviews = df[df['score_label'] == 'Positive']['content']\n",
        "    negative_reviews = df[df['score_label'] == 'Negative']['content']\n",
        "\n",
        "    liked_best = get_common_phrases(positive_reviews)\n",
        "    common_issues = get_common_phrases(negative_reviews)\n",
        "\n",
        "    # Export the DataFrame as a CSV file with sentiment, keywords, review date, and reviewer name\n",
        "    export_path = f\"{app_id}_reviews.csv\"\n",
        "    df[['userName', 'content', 'score_label', 'keywords', 'review_datetime']].to_csv(export_path, index=False)\n",
        "\n",
        "    return 'review_graph.png', liked_best, common_issues, export_path\n",
        "\n",
        "# Function to get most common words/phrases in reviews, excluding stopwords\n",
        "def get_common_phrases(reviews):\n",
        "    all_words = ' '.join(reviews).lower().split()  # Convert to lowercase and split words\n",
        "    filtered_words = [word for word in all_words if word not in stop_words and word.isalpha()]  # Remove stopwords and non-alphabetic words\n",
        "    common_phrases = Counter(filtered_words).most_common(5)  # Get top 5 common words\n",
        "    return ', '.join([word for word, count in common_phrases])\n",
        "\n",
        "# Function to extract keywords for individual reviews\n",
        "def get_keywords(review):\n",
        "    words = review.lower().split()  # Convert to lowercase and split words\n",
        "    keywords = [word for word in words if word not in stop_words and word.isalpha()]  # Remove stopwords and non-alphabetic words\n",
        "    return ' '.join(keywords)\n",
        "\n",
        "# Gradio interface\n",
        "with gr.Blocks() as demo:\n",
        "    app_id_input = gr.Textbox(label=\"Enter App ID\", placeholder=\"e.g., com.zapmoney\")\n",
        "    output_image = gr.Image(label=\"Review Graph\")\n",
        "    liked_best_output = gr.Textbox(label=\"What users liked best\")\n",
        "    common_issues_output = gr.Textbox(label=\"Most common issues\")\n",
        "    csv_output = gr.File(label=\"Download CSV\")\n",
        "\n",
        "    submit_btn = gr.Button(\"Submit\")\n",
        "    submit_btn.click(get_review_graph_and_feedback,\n",
        "                     inputs=app_id_input,\n",
        "                     outputs=[output_image, liked_best_output, common_issues_output, csv_output])\n",
        "\n",
        "# Launch the Gradio app\n",
        "demo.launch()\n"
      ],
      "metadata": {
        "colab": {
          "base_uri": "https://localhost:8080/",
          "height": 680
        },
        "id": "65Ile16qX7-K",
        "outputId": "2cbf1551-75b2-449f-912e-69cb21d0b7cf"
      },
      "execution_count": 6,
      "outputs": [
        {
          "output_type": "stream",
          "name": "stderr",
          "text": [
            "[nltk_data] Downloading package stopwords to /root/nltk_data...\n",
            "[nltk_data]   Package stopwords is already up-to-date!\n"
          ]
        },
        {
          "output_type": "stream",
          "name": "stdout",
          "text": [
            "Setting queue=True in a Colab notebook requires sharing enabled. Setting `share=True` (you can turn this off by setting `share=False` in `launch()` explicitly).\n",
            "\n",
            "Colab notebook detected. To show errors in colab notebook, set debug=True in launch()\n",
            "Running on public URL: https://7ea8ebdc26ce3f57e0.gradio.live\n",
            "\n",
            "This share link expires in 72 hours. For free permanent hosting and GPU upgrades, run `gradio deploy` from Terminal to deploy to Spaces (https://huggingface.co/spaces)\n"
          ]
        },
        {
          "output_type": "display_data",
          "data": {
            "text/plain": [
              "<IPython.core.display.HTML object>"
            ],
            "text/html": [
              "<div><iframe src=\"https://7ea8ebdc26ce3f57e0.gradio.live\" width=\"100%\" height=\"500\" allow=\"autoplay; camera; microphone; clipboard-read; clipboard-write;\" frameborder=\"0\" allowfullscreen></iframe></div>"
            ]
          },
          "metadata": {}
        },
        {
          "output_type": "execute_result",
          "data": {
            "text/plain": []
          },
          "metadata": {},
          "execution_count": 6
        }
      ]
    }
  ]
}